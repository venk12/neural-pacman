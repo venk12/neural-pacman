{
 "cells": [
  {
   "cell_type": "code",
   "execution_count": 21,
   "metadata": {},
   "source": [
    "import numpy as np\n",
    "\n",
    "import mne\n",
    "\n",
    "print(__doc__)"
   ],
   "outputs": []
  },
  {
   "cell_type": "code",
   "execution_count": 25,
   "metadata": {},
   "source": [
    "sfreq = 125  # Sampling frequency\n",
    "times = np.arange(0, 1, (1/sfreq)) \n",
    "\n",
    "sin = np.sin(times * 10)  # Multiplied by 10 for shorter cycles\n",
    "cos = np.cos(times * 10)\n",
    "sinX2 = sin * 2\n",
    "cosX2 = cos * 2\n",
    "\n",
    "# Numpy array of size 4 X 10000.\n",
    "data = np.array([sin, cos, sinX2, cosX2])\n",
    "\n",
    "# Definition of channel types and names.\n",
    "ch_types = ['mag', 'mag', 'grad', 'grad']\n",
    "ch_names = ['sin', 'cos', 'sinX2', 'cosX2']"
   ],
   "outputs": []
  },
  {
   "cell_type": "code",
   "execution_count": 3,
   "metadata": {},
   "source": [
    "# sfreq = 1000  # Sampling frequency\n",
    "times = np.arange(0, 10, 0.001)  # Use 10000 samples (10s)\n",
    "\n",
    "sin = np.sin(times * 10)  # Multiplied by 10 for shorter cycles\n",
    "cos = np.cos(times * 10)\n",
    "sinX2 = sin * 2\n",
    "cosX2 = cos * 2\n",
    "\n",
    "# Numpy array of size 4 X 10000.\n",
    "data = np.array([sin, cos, sinX2, cosX2])\n",
    "\n",
    "# Definition of channel types and names.\n",
    "ch_types = ['mag', 'mag', 'grad', 'grad']\n",
    "ch_names = ['sin', 'cos', 'sinX2', 'cosX2']"
   ],
   "outputs": []
  },
  {
   "cell_type": "code",
   "execution_count": 29,
   "metadata": {},
   "source": [
    "data.shape"
   ],
   "outputs": []
  },
  {
   "cell_type": "code",
   "execution_count": 30,
   "metadata": {},
   "source": [
    "# It is also possible to use info from another raw object.\n",
    "info = mne.create_info(ch_names=ch_names, sfreq=sfreq, ch_types=ch_types)"
   ],
   "outputs": []
  },
  {
   "cell_type": "code",
   "execution_count": 31,
   "metadata": {},
   "source": [
    "info"
   ],
   "outputs": []
  },
  {
   "cell_type": "code",
   "execution_count": 32,
   "metadata": {},
   "source": [
    "raw = mne.io.RawArray(data, info)\n",
    "\n",
    "# Scaling of the figure.\n",
    "# For actual EEG/MEG data different scaling factors should be used.\n",
    "scalings = {'mag': 2, 'grad': 2}\n",
    "\n",
    "raw.plot(n_channels=4, scalings=scalings, title='Data from arrays',\n",
    "         show=True, block=True)\n",
    "\n",
    "# It is also possible to auto-compute scalings\n",
    "scalings = 'auto'  # Could also pass a dictionary with some value == 'auto'\n",
    "raw.plot(n_channels=4, scalings=scalings, title='Auto-scaled Data from arrays',\n",
    "         show=True, block=True)"
   ],
   "outputs": []
  },
  {
   "metadata": {
    "ExecuteTime": {
     "end_time": "2024-05-14T11:16:57.666140Z",
     "start_time": "2024-05-14T11:16:44.613362Z"
    }
   },
   "cell_type": "code",
   "source": [
    "# Author: Teon Brooks <teon.brooks@gmail.com>\n",
    "#\n",
    "# License: BSD (3-clause)\n",
    "import matplotlib.pyplot as plt\n",
    "\n",
    "from mne.datasets import sample\n",
    "from mne.io import read_raw_fif\n",
    "\n",
    "from mne_realtime import LSLClient, MockLSLStream\n",
    "\n",
    "print(__doc__)\n",
    "\n",
    "# this is the host id that identifies your stream on LSL\n",
    "host = 'UN-2023.04.61'\n",
    "# this is the max wait time in seconds until client connection\n",
    "wait_max = 5\n",
    "\n",
    "\n",
    "# Load a file to stream raw data\n",
    "data_path = sample.data_path()\n",
    "raw_fname = data_path  / 'MEG' / 'sample' / 'sample_audvis_filt-0-40_raw.fif'\n",
    "raw = read_raw_fif(raw_fname).crop(0, 30).load_data().pick('eeg')\n",
    "\n",
    "# For this example, let's use the mock LSL stream.\n",
    "_, ax = plt.subplots(1)\n",
    "n_epochs = 5\n",
    "\n",
    "# main function is necessary here to enable script as own program\n",
    "# in such way a child process can be started (primarily for Windows)\n",
    "if __name__ == '__main__':\n",
    "    with MockLSLStream(host, raw, 'eeg'):\n",
    "        with LSLClient(info=raw.info, host=host, wait_max=wait_max) as client:\n",
    "            client_info = client.get_measurement_info()\n",
    "            sfreq = int(client_info['sfreq'])\n",
    "\n",
    "            # let's observe ten seconds of data\n",
    "            for ii in range(n_epochs):\n",
    "                print('Got epoch %d/%d' % (ii + 1, n_epochs))\n",
    "                plt.cla()\n",
    "                epoch = client.get_data_as_epoch(n_samples=sfreq)\n",
    "                epoch.average().plot(axes=ax)\n",
    "                plt.pause(1.)\n",
    "            plt.draw()\n",
    "print('Streams closed')"
   ],
   "execution_count": 2,
   "outputs": []
  },
  {
   "metadata": {
    "ExecuteTime": {
     "end_time": "2024-05-23T13:05:03.872867Z",
     "start_time": "2024-05-23T13:05:03.415856Z"
    }
   },
   "cell_type": "code",
   "source": [
    "%matplotlib qt\n",
    "\n",
    "import pandas as pd\n",
    "import numpy as np\n",
    "import matplotlib.pyplot as plt\n",
    "from matplotlib.animation import FuncAnimation\n",
    "# sample DataFrame with EEG data (replace this with your actual DataFrame)\n",
    "# Assuming columns are 'timestamp', 'channel1', 'channel2', ..., 'channel8'\n",
    "# and rows are successive time points\n",
    "data = pd.DataFrame({\n",
    "    'timestamp': pd.date_range('2024-05-23', periods=100, freq='1s'),\n",
    "    'channel1': np.random.rand(100),\n",
    "    'channel2': np.random.rand(100),\n",
    "    'channel3': np.random.rand(100),\n",
    "    'channel4': np.random.rand(100),\n",
    "    'channel5': np.random.rand(100),\n",
    "    'channel6': np.random.rand(100),\n",
    "    'channel7': np.random.rand(100),\n",
    "    'channel8': np.random.rand(100)\n",
    "})\n",
    "\n",
    "# Set up plot\n",
    "fig, ax = plt.subplots(2, 4, figsize=(12, 6))\n",
    "\n",
    "# Function to update plot\n",
    "def update_plot(frame):\n",
    "    ax.clear()\n",
    "    for i in range(8):\n",
    "        ax[i//4, i%4].plot(data['timestamp'][:frame], data[f'channel{i+1}'][:frame])\n",
    "        ax[i//4, i%4].set_title(f'Channel {i+1}')\n",
    "        ax[i//4, i%4].set_xlabel('Time')\n",
    "        ax[i//4, i%4].set_ylabel('Signal')\n",
    "        ax[i//4, i%4].grid(True)\n",
    "\n",
    "# Update plot in real-time\n",
    "ani = FuncAnimation(fig, update_plot, frames=len(data), interval=1000) # Update every 1 second (adjust as needed)\n",
    "plt.tight_layout()\n",
    "plt.show()"
   ],
   "execution_count": 2,
   "outputs": []
  }
 ],
 "metadata": {
  "kernelspec": {
   "display_name": "BCI_Sessions",
   "language": "python",
   "name": "python3"
  },
  "language_info": {
   "codemirror_mode": {
    "name": "ipython",
    "version": 3
   },
   "file_extension": ".py",
   "mimetype": "text/x-python",
   "name": "python",
   "nbconvert_exporter": "python",
   "pygments_lexer": "ipython3",
   "version": "3.9.16"
  }
 },
 "nbformat": 4,
 "nbformat_minor": 2
}
